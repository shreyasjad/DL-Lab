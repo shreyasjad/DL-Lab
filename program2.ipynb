{
 "cells": [
  {
   "cell_type": "code",
   "execution_count": 42,
   "metadata": {},
   "outputs": [],
   "source": [
    "import torch\n",
    "import torch.nn as nn\n",
    "import torch.optim as optim\n",
    "from torchvision import datasets,transforms\n",
    "from torch.utils.data import DataLoader, Subset\n",
    "import numpy as np"
   ]
  },
  {
   "cell_type": "code",
   "execution_count": 43,
   "metadata": {},
   "outputs": [],
   "source": [
    "transform=transforms.Compose([transforms.ToTensor(),\n",
    "                              transforms.Normalize((0.1307,),(0.3081,))])"
   ]
  },
  {
   "cell_type": "code",
   "execution_count": 44,
   "metadata": {},
   "outputs": [],
   "source": [
    "train_dataset=datasets.MNIST(root=\"./data\",train=True,transform=transform,download=True)\n",
    "test_dataset=datasets.MNIST(root=\"./data\",train=False,transform=transform,download=True)"
   ]
  },
  {
   "cell_type": "code",
   "execution_count": 45,
   "metadata": {},
   "outputs": [],
   "source": [
    "train_subset=Subset(train_dataset,range(200))\n",
    "test_subset=Subset(test_dataset,range(50))"
   ]
  },
  {
   "cell_type": "code",
   "execution_count": 46,
   "metadata": {},
   "outputs": [],
   "source": [
    "train_loader=DataLoader(train_subset,batch_size=10,shuffle=True)\n",
    "test_loader=DataLoader(test_subset,batch_size=10,shuffle=False)"
   ]
  },
  {
   "cell_type": "code",
   "execution_count": 47,
   "metadata": {},
   "outputs": [],
   "source": [
    "class SimpleANN(nn.Module):\n",
    "    def __init__(self):\n",
    "        super(SimpleANN,self).__init__()\n",
    "        self.fc1=nn.Linear(28*28,128)\n",
    "        self.fc2=nn.Linear(128,64)\n",
    "        self.fc3=nn.Linear(64,10)\n",
    "\n",
    "    def forward(self,x):\n",
    "        x=torch.flatten(x,start_dim=1)\n",
    "        x=torch.relu(self.fc1(x))\n",
    "        x=torch.relu(self.fc2(x))\n",
    "        x=self.fc3(x)\n",
    "        return x\n",
    "model=SimpleANN()    \n"
   ]
  },
  {
   "cell_type": "code",
   "execution_count": 48,
   "metadata": {},
   "outputs": [],
   "source": [
    "optimizer=optim.Adam(model.parameters(),lr=0.001)\n",
    "criterion=nn.CrossEntropyLoss()"
   ]
  },
  {
   "cell_type": "code",
   "execution_count": 50,
   "metadata": {},
   "outputs": [
    {
     "name": "stdout",
     "output_type": "stream",
     "text": [
      "Epoch 1, Train Loss: 2.0430, Train Accuracy: 37.50000000%, Test Loss: 1.6178, Test Accuracy: 62.00000000%\n",
      "Epoch 2, Train Loss: 1.1027, Train Accuracy: 79.00000000%, Test Loss: 1.0394, Test Accuracy: 64.00000000%\n",
      "Epoch 3, Train Loss: 0.5482, Train Accuracy: 86.50000000%, Test Loss: 0.7612, Test Accuracy: 72.00000000%\n",
      "Epoch 4, Train Loss: 0.3050, Train Accuracy: 92.50000000%, Test Loss: 0.7166, Test Accuracy: 76.00000000%\n",
      "Epoch 5, Train Loss: 0.1731, Train Accuracy: 95.50000000%, Test Loss: 0.6363, Test Accuracy: 82.00000000%\n",
      "Epoch 6, Train Loss: 0.1215, Train Accuracy: 97.50000000%, Test Loss: 0.5245, Test Accuracy: 84.00000000%\n",
      "Epoch 7, Train Loss: 0.0738, Train Accuracy: 98.50000000%, Test Loss: 0.5537, Test Accuracy: 84.00000000%\n",
      "Epoch 8, Train Loss: 0.0357, Train Accuracy: 100.00000000%, Test Loss: 0.5379, Test Accuracy: 80.00000000%\n",
      "Epoch 9, Train Loss: 0.0211, Train Accuracy: 100.00000000%, Test Loss: 0.5119, Test Accuracy: 82.00000000%\n",
      "Epoch 10, Train Loss: 0.0159, Train Accuracy: 100.00000000%, Test Loss: 0.5333, Test Accuracy: 80.00000000%\n"
     ]
    }
   ],
   "source": [
    "def train_model(epochs):\n",
    "    \n",
    "    for epoch in range(epochs):\n",
    "        model.train()\n",
    "        train_loss=0\n",
    "        correct_train=0\n",
    "        total_train=0\n",
    "        for data,target in train_loader:\n",
    "            output=model(data)\n",
    "            loss=criterion(output,target)\n",
    "            optimizer.zero_grad()\n",
    "            loss.backward()\n",
    "            optimizer.step()\n",
    "\n",
    "            train_loss+=loss.item()\n",
    "            predicted=torch.argmax(output.data,dim=1)\n",
    "            total_train+=target.size(0)\n",
    "            correct_train+=(predicted==target).sum().item()\n",
    "\n",
    "        avg_train_loss=train_loss/len(train_loader)\n",
    "        train_acc=100*correct_train/total_train\n",
    "\n",
    "        model.eval()\n",
    "        test_loss=0\n",
    "        correct_test=0\n",
    "        total_test=0\n",
    "        with torch.no_grad():\n",
    "            for data,target in test_loader:\n",
    "\n",
    "                output=model(data)\n",
    "                loss=criterion(output,target)\n",
    "                test_loss+=loss.item()\n",
    "                predicted=torch.argmax(output.data, dim=1)\n",
    "                total_test+=target.size(0)\n",
    "                correct_test+=(predicted==target).sum().item()\n",
    "            avg_test_loss=test_loss/len(test_loader)\n",
    "            test_acc=100* correct_test/total_test \n",
    "            print(f'Epoch {epoch+1}, Train Loss: {avg_train_loss:.4f}, Train Accuracy: {train_acc:.8f}%, '\n",
    "              f'Test Loss: {avg_test_loss:.4f}, Test Accuracy: {test_acc:.8f}%')   \n",
    "\n",
    "train_model(10)\n",
    "\n"
   ]
  }
 ],
 "metadata": {
  "kernelspec": {
   "display_name": "dllabenv",
   "language": "python",
   "name": "python3"
  },
  "language_info": {
   "codemirror_mode": {
    "name": "ipython",
    "version": 3
   },
   "file_extension": ".py",
   "mimetype": "text/x-python",
   "name": "python",
   "nbconvert_exporter": "python",
   "pygments_lexer": "ipython3",
   "version": "3.11.8"
  }
 },
 "nbformat": 4,
 "nbformat_minor": 2
}
