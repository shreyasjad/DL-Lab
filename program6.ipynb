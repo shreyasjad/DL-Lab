{
 "cells": [
  {
   "cell_type": "code",
   "execution_count": 1,
   "metadata": {},
   "outputs": [],
   "source": [
    "import torch\n",
    "import torch.nn as nn\n",
    "from  torchvision import datasets, transforms\n",
    "import torch.optim as optim\n",
    "from torch.utils.data import DataLoader , Subset , TensorDataset"
   ]
  },
  {
   "cell_type": "code",
   "execution_count": 2,
   "metadata": {},
   "outputs": [],
   "source": [
    "from unittest import loader\n",
    "\n",
    "\n",
    "data=torch.randint(0,1000,(100,10))\n",
    "labels=torch.randint(0,2,(100,))\n",
    "\n",
    "dataset=TensorDataset(data,labels)\n",
    "load=DataLoader(dataset,batch_size=10,shuffle=True)"
   ]
  },
  {
   "cell_type": "code",
   "execution_count": 3,
   "metadata": {},
   "outputs": [],
   "source": [
    "class LSTMClassifier(nn.Module):\n",
    "\n",
    "    def __init__(self,vocabsize,embeddingdim,hiddendim,outputdim):\n",
    "        super(LSTMClassifier,self).__init__()\n",
    "        self.embedding=nn.Embedding(vocabsize,embeddingdim)\n",
    "        self.lstm=nn.LSTM(embeddingdim,hiddendim,batch_first=True)\n",
    "        self.fc=nn.Linear(hiddendim,outputdim)\n",
    "\n",
    "\n",
    "    def forward(self,x):\n",
    "\n",
    "        x=self.embedding(x)\n",
    "        _, (hidden,_)=self.lstm(x)\n",
    "        return self.fc(hidden.squeeze(0))\n",
    "\n",
    "model=LSTMClassifier(1000,50,100,2)\n",
    "optimizer=optim.Adam(model.parameters(),lr=0.001)\n",
    "criterion=nn.CrossEntropyLoss()"
   ]
  },
  {
   "cell_type": "code",
   "execution_count": 4,
   "metadata": {},
   "outputs": [
    {
     "name": "stdout",
     "output_type": "stream",
     "text": [
      "Epoch:1 , train_loss:0.7079206705093384 \n",
      "Epoch:2 , train_loss:0.6784823536872864 \n",
      "Epoch:3 , train_loss:0.6182030439376831 \n",
      "Epoch:4 , train_loss:0.5697470903396606 \n",
      "Epoch:5 , train_loss:0.49558061361312866 \n",
      "Epoch:6 , train_loss:0.4049757421016693 \n",
      "Epoch:7 , train_loss:0.12525935471057892 \n",
      "Epoch:8 , train_loss:0.17566069960594177 \n",
      "Epoch:9 , train_loss:0.06728218495845795 \n",
      "Epoch:10 , train_loss:0.007798334117978811 \n"
     ]
    }
   ],
   "source": [
    "for epoch in range(10):\n",
    "    train_loss=0\n",
    "    for data,target in load:\n",
    "\n",
    "        output=model(data)\n",
    "        loss=criterion(output,target)\n",
    "        optimizer.zero_grad()\n",
    "        loss.backward()\n",
    "        optimizer.step()\n",
    "\n",
    "\n",
    "    print(f'Epoch:{epoch+1} , train_loss:{loss.item()} ')\n",
    "\n"
   ]
  }
 ],
 "metadata": {
  "kernelspec": {
   "display_name": "dllabenv",
   "language": "python",
   "name": "python3"
  },
  "language_info": {
   "codemirror_mode": {
    "name": "ipython",
    "version": 3
   },
   "file_extension": ".py",
   "mimetype": "text/x-python",
   "name": "python",
   "nbconvert_exporter": "python",
   "pygments_lexer": "ipython3",
   "version": "3.11.8"
  }
 },
 "nbformat": 4,
 "nbformat_minor": 2
}
