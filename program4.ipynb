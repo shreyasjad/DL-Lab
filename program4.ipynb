{
 "cells": [
  {
   "cell_type": "code",
   "execution_count": 6,
   "metadata": {},
   "outputs": [],
   "source": [
    "import torch\n",
    "import torch.nn as nn\n",
    "import torch.optim as optim\n",
    "import torch.nn.functional as F\n",
    "from torchvision import datasets, transforms\n",
    "from torch.utils.data import DataLoader, Subset"
   ]
  },
  {
   "cell_type": "code",
   "execution_count": 2,
   "metadata": {},
   "outputs": [],
   "source": [
    "transform=transforms.Compose([transforms.ToTensor(),\n",
    "                              transforms.Normalize((0.321,),(0.562,))])"
   ]
  },
  {
   "cell_type": "code",
   "execution_count": 3,
   "metadata": {},
   "outputs": [],
   "source": [
    "train_data=datasets.MNIST(root=\"./data\",transform=transform,download=False,train=True)\n",
    "test_data=datasets.MNIST(root=\"./data\",transform=transform,download=False,train=False)\n"
   ]
  },
  {
   "cell_type": "code",
   "execution_count": 4,
   "metadata": {},
   "outputs": [],
   "source": [
    "train_subset=Subset(train_data,range(200))\n",
    "test_subset=Subset(test_data,range(20))"
   ]
  },
  {
   "cell_type": "code",
   "execution_count": 5,
   "metadata": {},
   "outputs": [],
   "source": [
    "train_loader=DataLoader(train_subset,batch_size=10,shuffle=True)\n",
    "test_loader=DataLoader(test_subset,batch_size=10,shuffle=False)"
   ]
  },
  {
   "cell_type": "code",
   "execution_count": 19,
   "metadata": {},
   "outputs": [],
   "source": [
    "class SimpleCNN(nn.Module):\n",
    "\n",
    "    def __init__(self):\n",
    "        super(SimpleCNN,self).__init__()\n",
    "        self.conv1=nn.Sequential(\n",
    "            nn.Conv2d(1,10,kernel_size=3,padding=1),\n",
    "            nn.ReLU(inplace=True),\n",
    "            nn.MaxPool2d(2)\n",
    "        )\n",
    "        self.conv2=nn.Sequential(\n",
    "            nn.Conv2d(10,20,kernel_size=3,padding=1),\n",
    "            nn.ReLU(inplace=True),\n",
    "            nn.MaxPool2d(2)\n",
    "        )\n",
    "        self.fc1=nn.Linear(20*7*7,50)\n",
    "        self.fc2=nn.Linear(50,10)\n",
    "\n",
    "    def forward(self,x):\n",
    "        x=self.conv1(x)\n",
    "        x=self.conv2(x)\n",
    "        x=torch.flatten(x,1)\n",
    "        x=F.relu(self.fc1(x))\n",
    "        x=self.fc2(x)\n",
    "        return F.log_softmax(x,dim=1)\n",
    "\n",
    "model=SimpleCNN()\n",
    "criterion=nn.CrossEntropyLoss()\n",
    "    \n"
   ]
  },
  {
   "cell_type": "code",
   "execution_count": 20,
   "metadata": {},
   "outputs": [],
   "source": [
    "def train_loop(epochs,optimizer):\n",
    "\n",
    "    for epoch in range(epochs):\n",
    "        model.train()\n",
    "        train_loss=0\n",
    "        correct_train=0\n",
    "        total_train=0\n",
    "\n",
    "        for data,target in train_loader:\n",
    "            output=model(data)\n",
    "            loss=criterion(output,target)\n",
    "            optimizer.zero_grad()\n",
    "            loss.backward()\n",
    "            optimizer.step()\n",
    "\n",
    "            train_loss+=loss.item()\n",
    "            predicted=torch.argmax(output.data,dim=1)\n",
    "            total_train+=output.size(0)\n",
    "            correct_train+=(predicted==target).sum().item()\n",
    "\n",
    "        avg_train_loss=train_loss/len(train_loader)\n",
    "        train_acc=100*correct_train/total_train\n",
    "\n",
    "        model.eval()\n",
    "        test_loss=0\n",
    "        correct_test=0\n",
    "        total_test=0\n",
    "\n",
    "        for data,target in train_loader:\n",
    "            output=model(data)\n",
    "            loss=criterion(output,target)\n",
    "            test_loss+=loss.item()\n",
    "            predicted=torch.argmax(output.data,dim=1)\n",
    "            total_test+=output.size(0)\n",
    "            correct_test+=(predicted==target).sum().item()\n",
    "\n",
    "        avg_test_loss=test_loss/len(test_loader)\n",
    "        test_acc=100*correct_test/total_test\n",
    "\n",
    "        print(f'Epoch:{epoch+1},train loss:{avg_train_loss}, test loss:{avg_test_loss}, train acc:{train_acc}, test acc:{test_acc}')\n",
    "            \n",
    "\n"
   ]
  },
  {
   "cell_type": "code",
   "execution_count": 21,
   "metadata": {},
   "outputs": [
    {
     "name": "stdout",
     "output_type": "stream",
     "text": [
      "Epoch:1,train loss:2.279746782779694, test loss:21.852947473526, train acc:18.5, test acc:32.5\n",
      "Epoch:2,train loss:2.0804501593112947, test loss:18.476596176624298, train acc:46.0, test acc:63.5\n",
      "Epoch:3,train loss:1.5718551278114319, test loss:12.092442870140076, train acc:68.5, test acc:69.5\n",
      "Epoch:4,train loss:0.986744512617588, test loss:7.206243991851807, train acc:74.0, test acc:84.0\n",
      "Epoch:5,train loss:0.7009362727403641, test loss:5.392041206359863, train acc:79.5, test acc:85.0\n",
      "Epoch:6,train loss:0.5548729807138443, test loss:3.849776305258274, train acc:84.5, test acc:91.0\n",
      "Epoch:7,train loss:0.3847118206322193, test loss:2.886092103086412, train acc:87.0, test acc:93.0\n",
      "Epoch:8,train loss:0.2920407045632601, test loss:2.2643027417361736, train acc:93.5, test acc:95.0\n",
      "Epoch:9,train loss:0.24217873616144062, test loss:1.8580034114420414, train acc:94.0, test acc:96.0\n",
      "Epoch:10,train loss:0.21031878497451545, test loss:1.496006865054369, train acc:95.5, test acc:97.5\n",
      "Epoch:11,train loss:0.1883764261379838, test loss:1.065007034689188, train acc:96.0, test acc:99.0\n",
      "Epoch:12,train loss:0.09624091954901814, test loss:0.8292504446581006, train acc:99.0, test acc:99.0\n",
      "Epoch:13,train loss:0.07634126879274845, test loss:0.6442289678379893, train acc:98.0, test acc:99.0\n",
      "Epoch:14,train loss:0.060649843560531734, test loss:0.4301565494388342, train acc:98.5, test acc:100.0\n",
      "Epoch:15,train loss:0.051565370662137865, test loss:0.3849935596808791, train acc:100.0, test acc:100.0\n",
      "Epoch:16,train loss:0.03497509895823896, test loss:0.25474417058285326, train acc:100.0, test acc:100.0\n",
      "Epoch:17,train loss:0.02920287086162716, test loss:0.23450019024312496, train acc:100.0, test acc:100.0\n",
      "Epoch:18,train loss:0.02232130051124841, test loss:0.1815441765356809, train acc:100.0, test acc:100.0\n",
      "Epoch:19,train loss:0.01839385200291872, test loss:0.15473911387380213, train acc:100.0, test acc:100.0\n",
      "Epoch:20,train loss:0.015946459642145784, test loss:0.12862804741598666, train acc:100.0, test acc:100.0\n",
      "Epoch:21,train loss:0.013197584275621921, test loss:0.10156720492523164, train acc:100.0, test acc:100.0\n",
      "Epoch:22,train loss:0.010312952171079814, test loss:0.08575603878125548, train acc:100.0, test acc:100.0\n",
      "Epoch:23,train loss:0.00935370362130925, test loss:0.07734148047165945, train acc:100.0, test acc:100.0\n",
      "Epoch:24,train loss:0.008023238106397912, test loss:0.06939926312770694, train acc:100.0, test acc:100.0\n",
      "Epoch:25,train loss:0.007245599012821913, test loss:0.062241447682026774, train acc:100.0, test acc:100.0\n",
      "Epoch:26,train loss:0.0061953034601174295, test loss:0.05553354526637122, train acc:100.0, test acc:100.0\n",
      "Epoch:27,train loss:0.0056881047785282135, test loss:0.05104935506824404, train acc:100.0, test acc:100.0\n",
      "Epoch:28,train loss:0.005201316013699398, test loss:0.04628425792907365, train acc:100.0, test acc:100.0\n",
      "Epoch:29,train loss:0.00478287699224893, test loss:0.04274969134712592, train acc:100.0, test acc:100.0\n",
      "Epoch:30,train loss:0.004455703223356977, test loss:0.039242386526893824, train acc:100.0, test acc:100.0\n"
     ]
    }
   ],
   "source": [
    "optimizer=optim.Adam(model.parameters(),lr=0.001)\n",
    "train_loop(30,optimizer)"
   ]
  },
  {
   "cell_type": "code",
   "execution_count": 22,
   "metadata": {},
   "outputs": [
    {
     "name": "stdout",
     "output_type": "stream",
     "text": [
      "Epoch:1,train loss:0.0039350849663605915, test loss:0.03909690148429945, train acc:100.0, test acc:100.0\n",
      "Epoch:2,train loss:0.003928257728694007, test loss:0.03896967621403746, train acc:100.0, test acc:100.0\n",
      "Epoch:3,train loss:0.003915033876546658, test loss:0.03885502426419407, train acc:100.0, test acc:100.0\n",
      "Epoch:4,train loss:0.0038992705463897436, test loss:0.0387500841752626, train acc:100.0, test acc:100.0\n",
      "Epoch:5,train loss:0.003891157390899025, test loss:0.03865142696304247, train acc:100.0, test acc:100.0\n",
      "Epoch:6,train loss:0.0038869680400239305, test loss:0.038560402346774936, train acc:100.0, test acc:100.0\n",
      "Epoch:7,train loss:0.0038732923974748703, test loss:0.03847278206376359, train acc:100.0, test acc:100.0\n",
      "Epoch:8,train loss:0.003869892648071982, test loss:0.038386854372220114, train acc:100.0, test acc:100.0\n",
      "Epoch:9,train loss:0.003855298738926649, test loss:0.038306127942632884, train acc:100.0, test acc:100.0\n",
      "Epoch:10,train loss:0.003848525835201144, test loss:0.03822755187866278, train acc:100.0, test acc:100.0\n",
      "Epoch:11,train loss:0.0038399684824980797, test loss:0.038149237574543804, train acc:100.0, test acc:100.0\n",
      "Epoch:12,train loss:0.003833321455749683, test loss:0.03807174859684892, train acc:100.0, test acc:100.0\n",
      "Epoch:13,train loss:0.0038251624529948456, test loss:0.037996425133314915, train acc:100.0, test acc:100.0\n",
      "Epoch:14,train loss:0.0038177517359144985, test loss:0.03792140950099565, train acc:100.0, test acc:100.0\n",
      "Epoch:15,train loss:0.003812475118320435, test loss:0.037847133819013834, train acc:100.0, test acc:100.0\n",
      "Epoch:16,train loss:0.0038044857210479677, test loss:0.037773681862745434, train acc:100.0, test acc:100.0\n",
      "Epoch:17,train loss:0.003798162960447371, test loss:0.037700678600231186, train acc:100.0, test acc:100.0\n",
      "Epoch:18,train loss:0.003792463208083063, test loss:0.03762793116038665, train acc:100.0, test acc:100.0\n",
      "Epoch:19,train loss:0.0037805164261953904, test loss:0.03755593718960881, train acc:100.0, test acc:100.0\n",
      "Epoch:20,train loss:0.003772880375618115, test loss:0.03748472430743277, train acc:100.0, test acc:100.0\n",
      "Epoch:21,train loss:0.0037644080992322417, test loss:0.03741366762551479, train acc:100.0, test acc:100.0\n",
      "Epoch:22,train loss:0.003759448154596612, test loss:0.03734248341061175, train acc:100.0, test acc:100.0\n",
      "Epoch:23,train loss:0.0037544497492490335, test loss:0.037271506851539016, train acc:100.0, test acc:100.0\n",
      "Epoch:24,train loss:0.003747587645193562, test loss:0.037201277969870716, train acc:100.0, test acc:100.0\n",
      "Epoch:25,train loss:0.0037401789653813467, test loss:0.03713094085105695, train acc:100.0, test acc:100.0\n",
      "Epoch:26,train loss:0.003728632455749903, test loss:0.03706146223703399, train acc:100.0, test acc:100.0\n",
      "Epoch:27,train loss:0.003724642499582842, test loss:0.036992256122175604, train acc:100.0, test acc:100.0\n",
      "Epoch:28,train loss:0.0037184019514825196, test loss:0.03692293749190867, train acc:100.0, test acc:100.0\n",
      "Epoch:29,train loss:0.003705437760800123, test loss:0.036853832891210914, train acc:100.0, test acc:100.0\n",
      "Epoch:30,train loss:0.0036999271396780387, test loss:0.03678507142467424, train acc:100.0, test acc:100.0\n"
     ]
    }
   ],
   "source": [
    "optimizer=optim.SGD(model.parameters(),lr=0.001)\n",
    "train_loop(30,optimizer)"
   ]
  }
 ],
 "metadata": {
  "kernelspec": {
   "display_name": "dllabenv",
   "language": "python",
   "name": "python3"
  },
  "language_info": {
   "codemirror_mode": {
    "name": "ipython",
    "version": 3
   },
   "file_extension": ".py",
   "mimetype": "text/x-python",
   "name": "python",
   "nbconvert_exporter": "python",
   "pygments_lexer": "ipython3",
   "version": "3.11.8"
  }
 },
 "nbformat": 4,
 "nbformat_minor": 2
}
